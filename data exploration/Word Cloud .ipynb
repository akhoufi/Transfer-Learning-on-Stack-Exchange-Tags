{
 "cells": [
  {
   "cell_type": "code",
   "execution_count": 2,
   "metadata": {
    "collapsed": false
   },
   "outputs": [],
   "source": [
    "import csv\n",
    "import operator\n",
    "from collections import defaultdict\n",
    "from wordcloud import WordCloud, STOPWORDS\n",
    "import matplotlib.pyplot as plt\n",
    "%matplotlib inline\n",
    "import pandas as pd"
   ]
  },
  {
   "cell_type": "code",
   "execution_count": 4,
   "metadata": {
    "collapsed": false
   },
   "outputs": [],
   "source": [
    "dataframes = {\n",
    "    \"cooking\": pd.read_csv(\"../../input_light/cooking_light.csv\"),\n",
    "    \"crypto\": pd.read_csv(\"../../input_light/crypto_light.csv\"),\n",
    "    \"robotics\": pd.read_csv(\"../../input_light/robotics_light.csv\"),\n",
    "    \"biology\": pd.read_csv(\"../../input_light/biology_light.csv\"),\n",
    "    \"travel\": pd.read_csv(\"../../input_light/travel_light.csv\"),\n",
    "    \"diy\": pd.read_csv(\"../../input_light/diy_light.csv\"),\n",
    "    \"physics\": pd.read_csv(\"../../input_light/physics_light.csv\"),\n",
    "}"
   ]
  },
  {
   "cell_type": "markdown",
   "metadata": {},
   "source": [
    "## Word Cloud representation of Title and Content"
   ]
  },
  {
   "cell_type": "code",
   "execution_count": 9,
   "metadata": {
    "collapsed": false
   },
   "outputs": [
    {
     "name": "stdout",
     "output_type": "stream",
     "text": [
      "0        criticality ribosome binding site relative sta...\n",
      "1        rnase contamination rna based experiments prev...\n",
      "2                    lymphocyte sizes clustered two groups\n",
      "3         long antibiotic dosed lb maintain good selection\n",
      "4                     exon order always preserved splicing\n",
      "5                        avoid digesting protein bound dna\n",
      "6                         conditions dendritic spines form\n",
      "7                                            ship plasmids\n",
      "8        reason behind choosing reporter gene experimen...\n",
      "9                           many times endosymbiosis occur\n",
      "10       reduce edge effects cell based high throughput...\n",
      "11              anyone tried gibson assembly optimizations\n",
      "12       optimal frame size protein secondary structure...\n",
      "13       main mechanisms interaction nervous immune sys...\n",
      "14       mechanism binding histone code alternative spl...\n",
      "15               limiting factors gene length number exons\n",
      "16                understand influenza strain designations\n",
      "17       transmission epigenetic regulation surrogate m...\n",
      "18                       good miniprep protocol class room\n",
      "19       specific membrane adaptations cells saline ric...\n",
      "20                        bacterial chromatin binding data\n",
      "21       limits maximum spacing nodes ranvier organisms...\n",
      "22                 bi directional transcription experiment\n",
      "23                        human beings pheromone receptors\n",
      "24       rooted unrooted phylogenetic trees distinguish...\n",
      "25                          limiting factors intron length\n",
      "26       sequence characteristics influence transcripti...\n",
      "27              convincing evidence existence nanobacteria\n",
      "28               identify person homozygous certain allele\n",
      "29                                  one salmonella species\n",
      "                               ...                        \n",
      "13166                   possible impurities get apple peel\n",
      "13167                                     bedbug book lice\n",
      "13168    happens congenitally blind brain receives visu...\n",
      "13169               maximum limit connections pair neurons\n",
      "13170                  onion root tips show mitotic stages\n",
      "13171                      antibodies b blood group people\n",
      "13172    organs accumulate highest concentration infect...\n",
      "13173            herbivorous plants consume falling leaves\n",
      "13174                       enzymes faster diffusion rates\n",
      "13175                  bacteriophage lysis mammalian cells\n",
      "13176    developing neurons become tuned fire receiving...\n",
      "13177                                 happens protein made\n",
      "13178    safe consume foods hot enough scald skin touch...\n",
      "13179      relation conformational entropy protein folding\n",
      "13180                       modern humans genetic diseases\n",
      "13181                 difference dysentery bloody diarrhea\n",
      "13182                               nerves body end tongue\n",
      "13183                              black people run faster\n",
      "13184      continuous eeg pronounced power peak 38 hz come\n",
      "13185                      anatomical term two jointed leg\n",
      "13186                                   exogenous pyrogens\n",
      "13187                           animals poisonous venomous\n",
      "13188            percentage human excrement toxic ingested\n",
      "13189                          possible identify chrysalis\n",
      "13190    rapid decompression make lose useful conciousn...\n",
      "13191                                      sore mouth hard\n",
      "13192     besides fruits milk things nature intended eaten\n",
      "13193                     delayed compliance blood vessels\n",
      "13194    index scientific articles spreadsheet meta ana...\n",
      "13195    thin layers laminae make single summer band tr...\n",
      "Name: title, dtype: object\n"
     ]
    },
    {
     "ename": "TypeError",
     "evalue": "expected string or buffer",
     "output_type": "error",
     "traceback": [
      "\u001b[1;31m---------------------------------------------------------------------------\u001b[0m",
      "\u001b[1;31mTypeError\u001b[0m                                 Traceback (most recent call last)",
      "\u001b[1;32m<ipython-input-9-46da61a73284>\u001b[0m in \u001b[0;36m<module>\u001b[1;34m()\u001b[0m\n\u001b[0;32m      2\u001b[0m     \u001b[1;32mprint\u001b[0m \u001b[0mdf\u001b[0m\u001b[1;33m[\u001b[0m\u001b[1;34m\"title\"\u001b[0m\u001b[1;33m]\u001b[0m\u001b[1;33m\u001b[0m\u001b[0m\n\u001b[0;32m      3\u001b[0m     wc_title = WordCloud(max_words=1000,\n\u001b[1;32m----> 4\u001b[1;33m                random_state=1).generate(df[\"title\"])\n\u001b[0m\u001b[0;32m      5\u001b[0m     \u001b[0mplt\u001b[0m\u001b[1;33m.\u001b[0m\u001b[0mfigure\u001b[0m\u001b[1;33m(\u001b[0m\u001b[1;33m)\u001b[0m\u001b[1;33m\u001b[0m\u001b[0m\n\u001b[0;32m      6\u001b[0m     \u001b[0mplt\u001b[0m\u001b[1;33m.\u001b[0m\u001b[0mimshow\u001b[0m\u001b[1;33m(\u001b[0m\u001b[0mwc_title\u001b[0m\u001b[1;33m)\u001b[0m\u001b[1;33m\u001b[0m\u001b[0m\n",
      "\u001b[1;32mC:\\Users\\akhou\\Anaconda2\\lib\\site-packages\\wordcloud\\wordcloud.pyc\u001b[0m in \u001b[0;36mgenerate\u001b[1;34m(self, text)\u001b[0m\n\u001b[0;32m    446\u001b[0m         \u001b[0mself\u001b[0m\u001b[1;33m\u001b[0m\u001b[0m\n\u001b[0;32m    447\u001b[0m         \"\"\"\n\u001b[1;32m--> 448\u001b[1;33m         \u001b[1;32mreturn\u001b[0m \u001b[0mself\u001b[0m\u001b[1;33m.\u001b[0m\u001b[0mgenerate_from_text\u001b[0m\u001b[1;33m(\u001b[0m\u001b[0mtext\u001b[0m\u001b[1;33m)\u001b[0m\u001b[1;33m\u001b[0m\u001b[0m\n\u001b[0m\u001b[0;32m    449\u001b[0m \u001b[1;33m\u001b[0m\u001b[0m\n\u001b[0;32m    450\u001b[0m     \u001b[1;32mdef\u001b[0m \u001b[0m_check_generated\u001b[0m\u001b[1;33m(\u001b[0m\u001b[0mself\u001b[0m\u001b[1;33m)\u001b[0m\u001b[1;33m:\u001b[0m\u001b[1;33m\u001b[0m\u001b[0m\n",
      "\u001b[1;32mC:\\Users\\akhou\\Anaconda2\\lib\\site-packages\\wordcloud\\wordcloud.pyc\u001b[0m in \u001b[0;36mgenerate_from_text\u001b[1;34m(self, text)\u001b[0m\n\u001b[0;32m    431\u001b[0m         \u001b[0mself\u001b[0m\u001b[1;33m\u001b[0m\u001b[0m\n\u001b[0;32m    432\u001b[0m         \"\"\"\n\u001b[1;32m--> 433\u001b[1;33m         \u001b[0mwords\u001b[0m \u001b[1;33m=\u001b[0m \u001b[0mself\u001b[0m\u001b[1;33m.\u001b[0m\u001b[0mprocess_text\u001b[0m\u001b[1;33m(\u001b[0m\u001b[0mtext\u001b[0m\u001b[1;33m)\u001b[0m\u001b[1;33m\u001b[0m\u001b[0m\n\u001b[0m\u001b[0;32m    434\u001b[0m         \u001b[0mself\u001b[0m\u001b[1;33m.\u001b[0m\u001b[0mgenerate_from_frequencies\u001b[0m\u001b[1;33m(\u001b[0m\u001b[0mwords\u001b[0m\u001b[1;33m)\u001b[0m\u001b[1;33m\u001b[0m\u001b[0m\n\u001b[0;32m    435\u001b[0m         \u001b[1;32mreturn\u001b[0m \u001b[0mself\u001b[0m\u001b[1;33m\u001b[0m\u001b[0m\n",
      "\u001b[1;32mC:\\Users\\akhou\\Anaconda2\\lib\\site-packages\\wordcloud\\wordcloud.pyc\u001b[0m in \u001b[0;36mprocess_text\u001b[1;34m(self, text)\u001b[0m\n\u001b[0;32m    384\u001b[0m         flags = (re.UNICODE if sys.version < '3' and type(text) is unicode\n\u001b[0;32m    385\u001b[0m                  else 0)\n\u001b[1;32m--> 386\u001b[1;33m         \u001b[1;32mfor\u001b[0m \u001b[0mword\u001b[0m \u001b[1;32min\u001b[0m \u001b[0mre\u001b[0m\u001b[1;33m.\u001b[0m\u001b[0mfindall\u001b[0m\u001b[1;33m(\u001b[0m\u001b[1;34mr\"\\w[\\w']+\"\u001b[0m\u001b[1;33m,\u001b[0m \u001b[0mtext\u001b[0m\u001b[1;33m,\u001b[0m \u001b[0mflags\u001b[0m\u001b[1;33m=\u001b[0m\u001b[0mflags\u001b[0m\u001b[1;33m)\u001b[0m\u001b[1;33m:\u001b[0m\u001b[1;33m\u001b[0m\u001b[0m\n\u001b[0m\u001b[0;32m    387\u001b[0m             \u001b[1;32mif\u001b[0m \u001b[0mword\u001b[0m\u001b[1;33m.\u001b[0m\u001b[0misdigit\u001b[0m\u001b[1;33m(\u001b[0m\u001b[1;33m)\u001b[0m\u001b[1;33m:\u001b[0m\u001b[1;33m\u001b[0m\u001b[0m\n\u001b[0;32m    388\u001b[0m                 \u001b[1;32mcontinue\u001b[0m\u001b[1;33m\u001b[0m\u001b[0m\n",
      "\u001b[1;32mC:\\Users\\akhou\\Anaconda2\\lib\\re.pyc\u001b[0m in \u001b[0;36mfindall\u001b[1;34m(pattern, string, flags)\u001b[0m\n\u001b[0;32m    179\u001b[0m \u001b[1;33m\u001b[0m\u001b[0m\n\u001b[0;32m    180\u001b[0m     Empty matches are included in the result.\"\"\"\n\u001b[1;32m--> 181\u001b[1;33m     \u001b[1;32mreturn\u001b[0m \u001b[0m_compile\u001b[0m\u001b[1;33m(\u001b[0m\u001b[0mpattern\u001b[0m\u001b[1;33m,\u001b[0m \u001b[0mflags\u001b[0m\u001b[1;33m)\u001b[0m\u001b[1;33m.\u001b[0m\u001b[0mfindall\u001b[0m\u001b[1;33m(\u001b[0m\u001b[0mstring\u001b[0m\u001b[1;33m)\u001b[0m\u001b[1;33m\u001b[0m\u001b[0m\n\u001b[0m\u001b[0;32m    182\u001b[0m \u001b[1;33m\u001b[0m\u001b[0m\n\u001b[0;32m    183\u001b[0m \u001b[1;32mif\u001b[0m \u001b[0msys\u001b[0m\u001b[1;33m.\u001b[0m\u001b[0mhexversion\u001b[0m \u001b[1;33m>=\u001b[0m \u001b[1;36m0x02020000\u001b[0m\u001b[1;33m:\u001b[0m\u001b[1;33m\u001b[0m\u001b[0m\n",
      "\u001b[1;31mTypeError\u001b[0m: expected string or buffer"
     ]
    }
   ],
   "source": [
    "for name, df in dataframes.items():\n",
    "    wc_title = WordCloud(max_words=1000,\n",
    "               random_state=1).generate(df[\"title\"])\n",
    "    plt.figure()\n",
    "    plt.imshow(wc_title)\n",
    "    plt.axis(\"off\")\n",
    "    plt.title(name +'Titles Word Cloud')\n",
    "    plt.show()"
   ]
  },
  {
   "cell_type": "code",
   "execution_count": null,
   "metadata": {
    "collapsed": true
   },
   "outputs": [],
   "source": [
    "for name, df in dataframes.items():\n",
    "    wc_title = WordCloud(max_words=1000,\n",
    "               random_state=1, stopwords = stop_words).generate(df[\"title\"])\n",
    "    plt.imshow(wc_title)\n",
    "    plt.axis(\"off\")\n",
    "    plt.title(name +'Titles Word Cloud')\n",
    "    plt.show()"
   ]
  }
 ],
 "metadata": {
  "kernelspec": {
   "display_name": "Python 2",
   "language": "python",
   "name": "python2"
  },
  "language_info": {
   "codemirror_mode": {
    "name": "ipython",
    "version": 2
   },
   "file_extension": ".py",
   "mimetype": "text/x-python",
   "name": "python",
   "nbconvert_exporter": "python",
   "pygments_lexer": "ipython2",
   "version": "2.7.11"
  }
 },
 "nbformat": 4,
 "nbformat_minor": 0
}
